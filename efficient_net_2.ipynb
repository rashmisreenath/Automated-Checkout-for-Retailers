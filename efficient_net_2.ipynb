{
 "cells": [
  {
   "cell_type": "markdown",
   "id": "54c8c181",
   "metadata": {},
   "source": [
    "### EfficientNets"
   ]
  },
  {
   "cell_type": "code",
   "execution_count": 1,
   "id": "b33a0d87",
   "metadata": {},
   "outputs": [
    {
     "name": "stderr",
     "output_type": "stream",
     "text": [
      "C:\\Users\\rashm\\anaconda3\\lib\\site-packages\\numpy\\_distributor_init.py:30: UserWarning: loaded more than 1 DLL from .libs:\n",
      "C:\\Users\\rashm\\anaconda3\\lib\\site-packages\\numpy\\.libs\\libopenblas.FB5AE2TYXYH2IJRDKGDGQ3XBKLKTF43H.gfortran-win_amd64.dll\n",
      "C:\\Users\\rashm\\anaconda3\\lib\\site-packages\\numpy\\.libs\\libopenblas.PYQHXLVVQ7VESDPUVUADXEVJOBGHJPAY.gfortran-win_amd64.dll\n",
      "C:\\Users\\rashm\\anaconda3\\lib\\site-packages\\numpy\\.libs\\libopenblas.WCDJNK7YVMPZQ2ME2ZZHJJRJ3JIKNDB7.gfortran-win_amd64.dll\n",
      "  warnings.warn(\"loaded more than 1 DLL from .libs:\"\n"
     ]
    },
    {
     "name": "stdout",
     "output_type": "stream",
     "text": [
      "['Dairy Milk', 'earphone', 'shampoo']\n",
      "Types of classes labels found:  3\n",
      "       Labels                                   image\n",
      "0  Dairy Milk  C:/efficient_net/Dairy Milk/000001.jpg\n",
      "1  Dairy Milk  C:/efficient_net/Dairy Milk/000002.jpg\n",
      "2  Dairy Milk  C:/efficient_net/Dairy Milk/000003.jpg\n",
      "3  Dairy Milk  C:/efficient_net/Dairy Milk/000004.jpg\n",
      "4  Dairy Milk  C:/efficient_net/Dairy Milk/000005.jpg\n",
      "      Labels                                image\n",
      "145  shampoo  C:/efficient_net/shampoo/000046.jpg\n",
      "146  shampoo  C:/efficient_net/shampoo/000047.jpg\n",
      "147  shampoo  C:/efficient_net/shampoo/000048.png\n",
      "148  shampoo  C:/efficient_net/shampoo/000049.png\n",
      "149  shampoo  C:/efficient_net/shampoo/000050.jpg\n"
     ]
    }
   ],
   "source": [
    "import numpy as np\n",
    "import tensorflow as tf\n",
    "\n",
    "import numpy as np \n",
    "import pandas as pd \n",
    "import matplotlib.pyplot as plt\n",
    "import os\n",
    "\n",
    "dataset_path = os.listdir(\"C:/efficient_net\")\n",
    "\n",
    "print (dataset_path)  #what kinds of classes are in this dataset\n",
    "\n",
    "print(\"Types of classes labels found: \", len(dataset_path))\n",
    "\n",
    "class_labels = []\n",
    "\n",
    "for item in dataset_path:\n",
    " # Get all the file names\n",
    " all_classes = os.listdir(\"C:/efficient_net\" + '/' +item)\n",
    " #print(all_classes)\n",
    "\n",
    " # Add them to the list\n",
    " for room in all_classes:\n",
    "    class_labels.append((item, str(\"C:/efficient_net\" + '/' +item) + '/' + room))\n",
    "    #print(class_labels[:5])\n",
    "    \n",
    "    \n",
    "# Build a dataframe        \n",
    "df = pd.DataFrame(data=class_labels, columns=['Labels', 'image'])\n",
    "print(df.head())\n",
    "print(df.tail())"
   ]
  },
  {
   "cell_type": "code",
   "execution_count": 2,
   "id": "6421c37d",
   "metadata": {},
   "outputs": [
    {
     "name": "stdout",
     "output_type": "stream",
     "text": [
      "Total number of images in the dataset:  150\n",
      "shampoo       50\n",
      "Dairy Milk    50\n",
      "earphone      50\n",
      "Name: Labels, dtype: int64\n"
     ]
    }
   ],
   "source": [
    "# Let's check how many samples for each category are present\n",
    "print(\"Total number of images in the dataset: \", len(df))\n",
    "\n",
    "label_count = df['Labels'].value_counts()\n",
    "print(label_count)"
   ]
  },
  {
   "cell_type": "code",
   "execution_count": 3,
   "id": "2780e116",
   "metadata": {},
   "outputs": [],
   "source": [
    "import cv2\n",
    "path = \"C:/efficient_net/\"\n",
    "dataset_path = os.listdir(\"C:/efficient_net\")\n",
    "\n",
    "im_size = 224\n",
    "\n",
    "images = []\n",
    "labels = []\n",
    "\n",
    "for i in dataset_path:\n",
    "    data_path = path + str(i)  \n",
    "    filenames = [i for i in os.listdir(data_path) ]\n",
    "   \n",
    "    for f in filenames:\n",
    "        img = cv2.imread(data_path + '/' + f)\n",
    "        img = cv2.resize(img, (im_size, im_size))\n",
    "        images.append(img)\n",
    "        labels.append(i)"
   ]
  },
  {
   "cell_type": "code",
   "execution_count": 4,
   "id": "768b2fcd",
   "metadata": {},
   "outputs": [
    {
     "data": {
      "text/plain": [
       "(150, 224, 224, 3)"
      ]
     },
     "execution_count": 4,
     "metadata": {},
     "output_type": "execute_result"
    }
   ],
   "source": [
    "\n",
    "images = np.array(images)\n",
    "\n",
    "images = images.astype('float32') / 255.0\n",
    "images.shape"
   ]
  },
  {
   "cell_type": "code",
   "execution_count": 5,
   "id": "b96e66d7",
   "metadata": {},
   "outputs": [
    {
     "name": "stdout",
     "output_type": "stream",
     "text": [
      "['Dairy Milk' 'Dairy Milk' 'Dairy Milk' 'Dairy Milk' 'Dairy Milk'\n",
      " 'Dairy Milk' 'Dairy Milk' 'Dairy Milk' 'Dairy Milk' 'Dairy Milk'\n",
      " 'Dairy Milk' 'Dairy Milk' 'Dairy Milk' 'Dairy Milk' 'Dairy Milk'\n",
      " 'Dairy Milk' 'Dairy Milk' 'Dairy Milk' 'Dairy Milk' 'Dairy Milk'\n",
      " 'Dairy Milk' 'Dairy Milk' 'Dairy Milk' 'Dairy Milk' 'Dairy Milk'\n",
      " 'Dairy Milk' 'Dairy Milk' 'Dairy Milk' 'Dairy Milk' 'Dairy Milk'\n",
      " 'Dairy Milk' 'Dairy Milk' 'Dairy Milk' 'Dairy Milk' 'Dairy Milk'\n",
      " 'Dairy Milk' 'Dairy Milk' 'Dairy Milk' 'Dairy Milk' 'Dairy Milk'\n",
      " 'Dairy Milk' 'Dairy Milk' 'Dairy Milk' 'Dairy Milk' 'Dairy Milk'\n",
      " 'Dairy Milk' 'Dairy Milk' 'Dairy Milk' 'Dairy Milk' 'Dairy Milk'\n",
      " 'earphone' 'earphone' 'earphone' 'earphone' 'earphone' 'earphone'\n",
      " 'earphone' 'earphone' 'earphone' 'earphone' 'earphone' 'earphone'\n",
      " 'earphone' 'earphone' 'earphone' 'earphone' 'earphone' 'earphone'\n",
      " 'earphone' 'earphone' 'earphone' 'earphone' 'earphone' 'earphone'\n",
      " 'earphone' 'earphone' 'earphone' 'earphone' 'earphone' 'earphone'\n",
      " 'earphone' 'earphone' 'earphone' 'earphone' 'earphone' 'earphone'\n",
      " 'earphone' 'earphone' 'earphone' 'earphone' 'earphone' 'earphone'\n",
      " 'earphone' 'earphone' 'earphone' 'earphone' 'earphone' 'earphone'\n",
      " 'earphone' 'earphone' 'shampoo' 'shampoo' 'shampoo' 'shampoo' 'shampoo'\n",
      " 'shampoo' 'shampoo' 'shampoo' 'shampoo' 'shampoo' 'shampoo' 'shampoo'\n",
      " 'shampoo' 'shampoo' 'shampoo' 'shampoo' 'shampoo' 'shampoo' 'shampoo'\n",
      " 'shampoo' 'shampoo' 'shampoo' 'shampoo' 'shampoo' 'shampoo' 'shampoo'\n",
      " 'shampoo' 'shampoo' 'shampoo' 'shampoo' 'shampoo' 'shampoo' 'shampoo'\n",
      " 'shampoo' 'shampoo' 'shampoo' 'shampoo' 'shampoo' 'shampoo' 'shampoo'\n",
      " 'shampoo' 'shampoo' 'shampoo' 'shampoo' 'shampoo' 'shampoo' 'shampoo'\n",
      " 'shampoo' 'shampoo' 'shampoo']\n",
      "[0 0 0 0 0 0 0 0 0 0 0 0 0 0 0 0 0 0 0 0 0 0 0 0 0 0 0 0 0 0 0 0 0 0 0 0 0\n",
      " 0 0 0 0 0 0 0 0 0 0 0 0 0 1 1 1 1 1 1 1 1 1 1 1 1 1 1 1 1 1 1 1 1 1 1 1 1\n",
      " 1 1 1 1 1 1 1 1 1 1 1 1 1 1 1 1 1 1 1 1 1 1 1 1 1 1 2 2 2 2 2 2 2 2 2 2 2\n",
      " 2 2 2 2 2 2 2 2 2 2 2 2 2 2 2 2 2 2 2 2 2 2 2 2 2 2 2 2 2 2 2 2 2 2 2 2 2\n",
      " 2 2]\n"
     ]
    }
   ],
   "source": [
    "from sklearn.preprocessing import LabelEncoder , OneHotEncoder\n",
    "y=df['Labels'].values\n",
    "print(y)\n",
    "\n",
    "y_labelencoder = LabelEncoder ()\n",
    "y = y_labelencoder.fit_transform (y)\n",
    "print (y)"
   ]
  },
  {
   "cell_type": "code",
   "execution_count": 6,
   "id": "5e99338f",
   "metadata": {},
   "outputs": [
    {
     "name": "stdout",
     "output_type": "stream",
     "text": [
      "[[1. 0. 0.]\n",
      " [1. 0. 0.]\n",
      " [1. 0. 0.]\n",
      " [1. 0. 0.]\n",
      " [1. 0. 0.]]\n",
      "[[1. 0. 0.]\n",
      " [1. 0. 0.]\n",
      " [1. 0. 0.]\n",
      " [1. 0. 0.]\n",
      " [1. 0. 0.]\n",
      " [1. 0. 0.]\n",
      " [1. 0. 0.]\n",
      " [1. 0. 0.]\n",
      " [1. 0. 0.]\n",
      " [1. 0. 0.]\n",
      " [1. 0. 0.]\n",
      " [1. 0. 0.]\n",
      " [1. 0. 0.]\n",
      " [1. 0. 0.]\n",
      " [1. 0. 0.]\n",
      " [0. 1. 0.]\n",
      " [0. 1. 0.]\n",
      " [0. 1. 0.]\n",
      " [0. 1. 0.]\n",
      " [0. 1. 0.]\n",
      " [0. 1. 0.]\n",
      " [0. 1. 0.]\n",
      " [0. 1. 0.]\n",
      " [0. 1. 0.]\n",
      " [0. 1. 0.]\n",
      " [0. 1. 0.]\n",
      " [0. 1. 0.]\n",
      " [0. 1. 0.]\n",
      " [0. 1. 0.]\n",
      " [0. 1. 0.]\n",
      " [0. 1. 0.]\n",
      " [0. 1. 0.]\n",
      " [0. 1. 0.]\n",
      " [0. 1. 0.]\n",
      " [0. 1. 0.]\n",
      " [0. 1. 0.]\n",
      " [0. 1. 0.]\n",
      " [0. 1. 0.]\n",
      " [0. 1. 0.]\n",
      " [0. 1. 0.]\n",
      " [0. 1. 0.]\n",
      " [0. 1. 0.]\n",
      " [0. 1. 0.]\n",
      " [0. 1. 0.]\n",
      " [0. 1. 0.]\n",
      " [0. 1. 0.]\n",
      " [0. 1. 0.]\n",
      " [0. 1. 0.]\n",
      " [0. 1. 0.]\n",
      " [0. 1. 0.]\n",
      " [0. 1. 0.]\n",
      " [0. 1. 0.]\n",
      " [0. 1. 0.]\n",
      " [0. 1. 0.]\n",
      " [0. 1. 0.]\n",
      " [0. 1. 0.]\n",
      " [0. 1. 0.]\n",
      " [0. 1. 0.]\n",
      " [0. 1. 0.]\n",
      " [0. 1. 0.]\n",
      " [0. 1. 0.]\n",
      " [0. 1. 0.]\n",
      " [0. 1. 0.]\n",
      " [0. 1. 0.]\n",
      " [0. 1. 0.]\n",
      " [0. 0. 1.]\n",
      " [0. 0. 1.]\n",
      " [0. 0. 1.]\n",
      " [0. 0. 1.]\n",
      " [0. 0. 1.]\n",
      " [0. 0. 1.]\n",
      " [0. 0. 1.]\n",
      " [0. 0. 1.]\n",
      " [0. 0. 1.]\n",
      " [0. 0. 1.]\n",
      " [0. 0. 1.]\n",
      " [0. 0. 1.]\n",
      " [0. 0. 1.]\n",
      " [0. 0. 1.]\n",
      " [0. 0. 1.]\n",
      " [0. 0. 1.]\n",
      " [0. 0. 1.]\n",
      " [0. 0. 1.]\n",
      " [0. 0. 1.]\n",
      " [0. 0. 1.]\n",
      " [0. 0. 1.]\n",
      " [0. 0. 1.]\n",
      " [0. 0. 1.]\n",
      " [0. 0. 1.]\n",
      " [0. 0. 1.]\n",
      " [0. 0. 1.]\n",
      " [0. 0. 1.]\n",
      " [0. 0. 1.]\n",
      " [0. 0. 1.]\n",
      " [0. 0. 1.]\n",
      " [0. 0. 1.]\n",
      " [0. 0. 1.]\n",
      " [0. 0. 1.]\n",
      " [0. 0. 1.]\n",
      " [0. 0. 1.]\n",
      " [0. 0. 1.]\n",
      " [0. 0. 1.]\n",
      " [0. 0. 1.]\n",
      " [0. 0. 1.]\n",
      " [0. 0. 1.]\n",
      " [0. 0. 1.]\n",
      " [0. 0. 1.]\n",
      " [0. 0. 1.]\n",
      " [0. 0. 1.]\n",
      " [0. 0. 1.]\n",
      " [0. 0. 1.]\n",
      " [0. 0. 1.]\n",
      " [0. 0. 1.]\n",
      " [0. 0. 1.]\n",
      " [0. 0. 1.]]\n"
     ]
    }
   ],
   "source": [
    "\n",
    "y=y.reshape(-1,1)\n",
    "\n",
    "from sklearn.compose import ColumnTransformer\n",
    "ct = ColumnTransformer([('my_ohe', OneHotEncoder(), [0])], remainder='passthrough')\n",
    "Y = ct.fit_transform(y) #.toarray()\n",
    "print(Y[:5])\n",
    "print(Y[35:])"
   ]
  },
  {
   "cell_type": "code",
   "execution_count": 7,
   "id": "a6d8a201",
   "metadata": {},
   "outputs": [
    {
     "name": "stdout",
     "output_type": "stream",
     "text": [
      "(142, 224, 224, 3)\n",
      "(142, 3)\n",
      "(8, 224, 224, 3)\n",
      "(8, 3)\n"
     ]
    }
   ],
   "source": [
    "from sklearn.utils import shuffle\n",
    "from sklearn.model_selection import train_test_split\n",
    "\n",
    "\n",
    "images, Y = shuffle(images, Y, random_state=1)\n",
    "\n",
    "\n",
    "train_x, test_x, train_y, test_y = train_test_split(images, Y, test_size=0.05, random_state=415)\n",
    "\n",
    "#inpect the shape of the training and testing.\n",
    "print(train_x.shape)\n",
    "print(train_y.shape)\n",
    "print(test_x.shape)\n",
    "print(test_y.shape)"
   ]
  },
  {
   "cell_type": "code",
   "execution_count": 8,
   "id": "18b89e52",
   "metadata": {},
   "outputs": [],
   "source": [
    "import cv2\n",
    "import numpy as np\n",
    "from matplotlib.pyplot import imread\n",
    "from matplotlib.pyplot import imshow\n",
    "from tensorflow.keras.preprocessing import image\n",
    "from tensorflow.keras.applications.imagenet_utils import decode_predictions\n",
    "from tensorflow.keras.applications.imagenet_utils import preprocess_input\n",
    "from tensorflow.keras import layers\n",
    "from tensorflow.keras.applications import EfficientNetB0\n",
    "import numpy as np\n",
    "import tensorflow as tf\n",
    "\n",
    "import numpy as np \n",
    "import pandas as pd \n",
    "import matplotlib.pyplot as plt\n",
    "import os\n",
    "\n",
    "\n",
    "NUM_CLASSES = 3\n",
    "IMG_SIZE = 224"
   ]
  },
  {
   "cell_type": "code",
   "execution_count": 9,
   "id": "d974745b",
   "metadata": {},
   "outputs": [],
   "source": [
    "def build_model(num_classes):\n",
    "    inputs = layers.Input(shape=(IMG_SIZE, IMG_SIZE, 3))\n",
    "    #x = img_augmentation(inputs)\n",
    "    x = inputs\n",
    "    model = EfficientNetB0(include_top=False, input_tensor=x, weights=\"imagenet\")\n",
    "\n",
    "    # Freeze the pretrained weights\n",
    "    model.trainable = False\n",
    "\n",
    "    # Rebuild top\n",
    "    x = layers.GlobalAveragePooling2D(name=\"avg_pool\")(model.output)\n",
    "    x = layers.BatchNormalization()(x)\n",
    "\n",
    "    top_dropout_rate = 0.2\n",
    "    x = layers.Dropout(top_dropout_rate, name=\"top_dropout\")(x)\n",
    "    outputs = layers.Dense(NUM_CLASSES, activation=\"softmax\", name=\"pred\")(x)\n",
    "\n",
    "    # Compile\n",
    "    model = tf.keras.Model(inputs, outputs, name=\"EfficientNet\")\n",
    "    optimizer = tf.keras.optimizers.Adam(learning_rate=1e-2)\n",
    "    model.compile(\n",
    "        optimizer=optimizer, loss=\"categorical_crossentropy\", metrics=[\"accuracy\"]\n",
    "    )\n",
    "    return model"
   ]
  },
  {
   "cell_type": "code",
   "execution_count": 10,
   "id": "d1ee54ae",
   "metadata": {},
   "outputs": [
    {
     "name": "stdout",
     "output_type": "stream",
     "text": [
      "Downloading data from https://storage.googleapis.com/keras-applications/efficientnetb0_notop.h5\n",
      "16705208/16705208 [==============================] - 5s 0us/step\n"
     ]
    }
   ],
   "source": [
    "model = build_model(num_classes=NUM_CLASSES)"
   ]
  },
  {
   "cell_type": "code",
   "execution_count": 11,
   "id": "b470ce1e",
   "metadata": {},
   "outputs": [],
   "source": [
    "import matplotlib.pyplot as plt\n",
    "\n",
    "\n",
    "def plot_hist(hist):\n",
    "    plt.plot(hist.history[\"accuracy\"])\n",
    "    #plt.plot(hist.history[\"val_accuracy\"])\n",
    "    plt.title(\"model accuracy\")\n",
    "    plt.ylabel(\"accuracy\")\n",
    "    plt.xlabel(\"epoch\")\n",
    "    plt.legend([\"train\", \"validation\"], loc=\"upper left\")\n",
    "    plt.show()\n",
    "\n",
    "\n",
    "#plot_hist(hist)"
   ]
  },
  {
   "cell_type": "code",
   "execution_count": 12,
   "id": "b1b73de0",
   "metadata": {},
   "outputs": [
    {
     "name": "stdout",
     "output_type": "stream",
     "text": [
      "Epoch 1/30\n",
      "5/5 - 8s - loss: 1.9186 - accuracy: 0.2817 - 8s/epoch - 2s/step\n",
      "Epoch 2/30\n",
      "5/5 - 4s - loss: 1.6381 - accuracy: 0.3028 - 4s/epoch - 880ms/step\n",
      "Epoch 3/30\n",
      "5/5 - 5s - loss: 1.7492 - accuracy: 0.3028 - 5s/epoch - 930ms/step\n",
      "Epoch 4/30\n",
      "5/5 - 4s - loss: 1.4712 - accuracy: 0.4085 - 4s/epoch - 894ms/step\n",
      "Epoch 5/30\n",
      "5/5 - 5s - loss: 1.5480 - accuracy: 0.3803 - 5s/epoch - 937ms/step\n",
      "Epoch 6/30\n",
      "5/5 - 5s - loss: 1.5623 - accuracy: 0.3451 - 5s/epoch - 919ms/step\n",
      "Epoch 7/30\n",
      "5/5 - 5s - loss: 1.6536 - accuracy: 0.3310 - 5s/epoch - 995ms/step\n",
      "Epoch 8/30\n",
      "5/5 - 5s - loss: 1.5716 - accuracy: 0.3873 - 5s/epoch - 980ms/step\n",
      "Epoch 9/30\n",
      "5/5 - 5s - loss: 1.5518 - accuracy: 0.3592 - 5s/epoch - 945ms/step\n",
      "Epoch 10/30\n",
      "5/5 - 5s - loss: 1.2738 - accuracy: 0.4366 - 5s/epoch - 970ms/step\n",
      "Epoch 11/30\n",
      "5/5 - 6s - loss: 1.3582 - accuracy: 0.4225 - 6s/epoch - 1s/step\n",
      "Epoch 12/30\n",
      "5/5 - 5s - loss: 1.4027 - accuracy: 0.4225 - 5s/epoch - 1s/step\n",
      "Epoch 13/30\n",
      "5/5 - 5s - loss: 1.3873 - accuracy: 0.4085 - 5s/epoch - 1s/step\n",
      "Epoch 14/30\n",
      "5/5 - 5s - loss: 1.2645 - accuracy: 0.4155 - 5s/epoch - 953ms/step\n",
      "Epoch 15/30\n",
      "5/5 - 4s - loss: 1.6039 - accuracy: 0.3310 - 4s/epoch - 889ms/step\n",
      "Epoch 16/30\n",
      "5/5 - 5s - loss: 1.4773 - accuracy: 0.3521 - 5s/epoch - 911ms/step\n",
      "Epoch 17/30\n",
      "5/5 - 5s - loss: 1.6028 - accuracy: 0.4225 - 5s/epoch - 902ms/step\n",
      "Epoch 18/30\n",
      "5/5 - 4s - loss: 1.4566 - accuracy: 0.3944 - 4s/epoch - 883ms/step\n",
      "Epoch 19/30\n",
      "5/5 - 4s - loss: 1.5350 - accuracy: 0.4225 - 4s/epoch - 871ms/step\n",
      "Epoch 20/30\n",
      "5/5 - 5s - loss: 1.5541 - accuracy: 0.3592 - 5s/epoch - 945ms/step\n",
      "Epoch 21/30\n",
      "5/5 - 5s - loss: 1.6297 - accuracy: 0.4014 - 5s/epoch - 912ms/step\n",
      "Epoch 22/30\n",
      "5/5 - 5s - loss: 1.4423 - accuracy: 0.4155 - 5s/epoch - 915ms/step\n",
      "Epoch 23/30\n",
      "5/5 - 5s - loss: 1.3769 - accuracy: 0.4437 - 5s/epoch - 955ms/step\n",
      "Epoch 24/30\n",
      "5/5 - 4s - loss: 1.4506 - accuracy: 0.4366 - 4s/epoch - 873ms/step\n",
      "Epoch 25/30\n",
      "5/5 - 4s - loss: 1.5424 - accuracy: 0.4155 - 4s/epoch - 885ms/step\n",
      "Epoch 26/30\n",
      "5/5 - 5s - loss: 1.4746 - accuracy: 0.4437 - 5s/epoch - 912ms/step\n",
      "Epoch 27/30\n",
      "5/5 - 4s - loss: 1.3525 - accuracy: 0.4085 - 4s/epoch - 888ms/step\n",
      "Epoch 28/30\n",
      "5/5 - 4s - loss: 1.3500 - accuracy: 0.4789 - 4s/epoch - 872ms/step\n",
      "Epoch 29/30\n",
      "5/5 - 4s - loss: 1.6317 - accuracy: 0.4296 - 4s/epoch - 864ms/step\n",
      "Epoch 30/30\n",
      "5/5 - 4s - loss: 1.4893 - accuracy: 0.4014 - 4s/epoch - 871ms/step\n"
     ]
    },
    {
     "data": {
      "image/png": "[encoded data removed]",
      "text/plain": [
       "<Figure size 432x288 with 1 Axes>"
      ]
     },
     "metadata": {
      "needs_background": "light"
     },
     "output_type": "display_data"
    }
   ],
   "source": [
    "epochs = 30 \n",
    "hist = model.fit(train_x, train_y, epochs=epochs, verbose=2)\n",
    "plot_hist(hist)"
   ]
  },
  {
   "cell_type": "code",
   "execution_count": 13,
   "id": "01da366b",
   "metadata": {},
   "outputs": [
    {
     "name": "stdout",
     "output_type": "stream",
     "text": [
      "1/1 [==============================] - 1s 1s/step - loss: 1.3639 - accuracy: 0.1250\n",
      "Loss = 1.363903522491455\n",
      "Test Accuracy = 0.125\n"
     ]
    }
   ],
   "source": [
    "preds = model.evaluate(test_x, test_y)\n",
    "print (\"Loss = \" + str(preds[0]))\n",
    "print (\"Test Accuracy = \" + str(preds[1]))"
   ]
  },
  {
   "cell_type": "code",
   "execution_count": 14,
   "id": "09c77a21",
   "metadata": {},
   "outputs": [
    {
     "name": "stdout",
     "output_type": "stream",
     "text": [
      "Input image shape: (1, 224, 224, 3)\n",
      "1/1 [==============================] - 1s 861ms/step\n",
      "predicted class:  [[0.4539797  0.23157722 0.31444308]]\n"
     ]
    },
    {
     "data": {
      "image/png": "[encoded data removed]",
      "text/plain": [
       "<Figure size 432x288 with 1 Axes>"
      ]
     },
     "metadata": {
      "needs_background": "light"
     },
     "output_type": "display_data"
    }
   ],
   "source": [
    "img_path = \"D:/Down/ear.png\"\n",
    "\n",
    "\n",
    "img = cv2.imread(img_path)\n",
    "img = cv2.resize(img, (224, 224))\n",
    "\n",
    "x = np.expand_dims(img, axis=0)\n",
    "x = preprocess_input(x)\n",
    "\n",
    "print('Input image shape:', x.shape)\n",
    "\n",
    "my_image = imread(img_path)\n",
    "imshow(my_image)\n",
    "\n",
    "\n",
    "\n",
    "preds=model.predict(x)\n",
    "print(\"predicted class: \", preds ) "
   ]
  },
  {
   "cell_type": "code",
   "execution_count": 20,
   "id": "75af06e4",
   "metadata": {},
   "outputs": [
    {
     "data": {
      "text/plain": [
       "0.4539797"
      ]
     },
     "execution_count": 20,
     "metadata": {},
     "output_type": "execute_result"
    }
   ],
   "source": [
    "a=preds.max()"
   ]
  },
  {
   "cell_type": "code",
   "execution_count": null,
   "id": "5ada8332",
   "metadata": {},
   "outputs": [],
   "source": [
    "import pandas as pd\n",
    "\n",
    "# per unit cost for each item \n",
    "price = {'earphone,' : 5000 ,\n",
    "         'shampoo,' : 1450,\n",
    "         'Dairy Milk,': 100,\n",
    "         }"
   ]
  }
 ],
 "metadata": {
  "kernelspec": {
   "display_name": "Python 3 (ipykernel)",
   "language": "python",
   "name": "python3"
  },
  "language_info": {
   "codemirror_mode": {
    "name": "ipython",
    "version": 3
   },
   "file_extension": ".py",
   "mimetype": "text/x-python",
   "name": "python",
   "nbconvert_exporter": "python",
   "pygments_lexer": "ipython3",
   "version": "3.8.8"
  }
 },
 "nbformat": 4,
 "nbformat_minor": 5
}
